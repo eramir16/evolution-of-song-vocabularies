{
 "cells": [
  {
   "cell_type": "code",
   "execution_count": 1,
   "source": [
    "#Eder Ramirez \r\n",
    "#Project 1\r\n",
    "from bs4 import BeautifulSoup\r\n",
    "import requests\r\n",
    "import pandas as pd \r\n",
    "import time\r\n",
    "import random "
   ],
   "outputs": [],
   "metadata": {}
  },
  {
   "cell_type": "code",
   "execution_count": 2,
   "source": [
    "df = pd.read_csv('dataset_22.csv')\r\n",
    "#test to make sure there all 500 links were collected\r\n",
    "url_list = df['lyrics url'].tolist()\r\n",
    "#print ('number of links: ', len(url_list))  #prints 500 "
   ],
   "outputs": [],
   "metadata": {}
  },
  {
   "cell_type": "code",
   "execution_count": null,
   "source": [
    "library = [] #create a list to store the lyrics for each song\r\n",
    "\r\n",
    "\r\n",
    "for x in url_list: \r\n",
    "    \r\n",
    "    page = requests.get(x)\r\n",
    "    soup = BeautifulSoup (page.content, \"lxml\")\r\n",
    "    x = soup.find_all(\"div\", {\"class\": None})   #access only the lyrics from each link\r\n",
    "    find_lyrics = x[1].text.split('\\n',60)    #split the text so it cleans the text\r\n",
    "    found= find_lyrics[2:]\r\n",
    "    library.append(found)\r\n",
    "    \r\n",
    "    \r\n",
    "    string  = [' '.join(x) for x in library]    #convert each song's lyrics list into a string\r\n",
    "    #print(string)\r\n",
    "    time.sleep(random.randint(40,60))  #create a timer\r\n",
    "    \r\n",
    "\r\n",
    "\r\n",
    "    \r\n",
    "\r\n",
    " "
   ],
   "outputs": [],
   "metadata": {
    "scrolled": false
   }
  },
  {
   "cell_type": "code",
   "execution_count": 13,
   "source": [
    "import csv\r\n",
    "#create a new csv file to access the lyrics without running the code again\r\n",
    "lyric_text = zip(*[df['song title'],df['artist/band name'],df['year'],df['lyrics url'],string])\r\n",
    "with open ('lyrics_1.csv', 'w', encoding='utf-8', newline ='') as myfile: \r\n",
    "        wr = csv.writer(myfile)\r\n",
    "        wr.writerow(('song title','artist/band name','year','lyrics url','lyrics'))\r\n",
    "        wr.writerows(lyric_text)\r\n",
    "        \r\n",
    "myfile.close()"
   ],
   "outputs": [],
   "metadata": {}
  }
 ],
 "metadata": {
  "kernelspec": {
   "display_name": "Python 3",
   "language": "python",
   "name": "python3"
  },
  "language_info": {
   "codemirror_mode": {
    "name": "ipython",
    "version": 3
   },
   "file_extension": ".py",
   "mimetype": "text/x-python",
   "name": "python",
   "nbconvert_exporter": "python",
   "pygments_lexer": "ipython3",
   "version": "3.8.8"
  }
 },
 "nbformat": 4,
 "nbformat_minor": 5
}